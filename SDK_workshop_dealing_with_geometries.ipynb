{
 "cells": [
  {
   "cell_type": "markdown",
   "id": "4472e340-12fa-4c1c-98a8-a63342d9b9c3",
   "metadata": {},
   "source": [
    "# Dealing with geometries"
   ]
  },
  {
   "cell_type": "markdown",
   "id": "ce215500-c035-42bd-a07b-fbad7c551d85",
   "metadata": {},
   "source": [
    "General tips for working with a jupyter notebook.\n",
    "\n",
    "➕ to create new cell\n",
    "\n",
    "✂️ to delete a cell\n",
    "\n",
    "▶️ to run the code in the cell\n",
    "\n",
    "#️⃣ to add comment / text / non-code things\n",
    "\n",
    "To install the UP42 SDK in a notebook just write !pip install up42-py in a seperate cell"
   ]
  },
  {
   "cell_type": "code",
   "execution_count": 1,
   "id": "d447072a-ced1-4566-94ad-1aeed2ca45bb",
   "metadata": {},
   "outputs": [
    {
     "name": "stderr",
     "output_type": "stream",
     "text": [
      "2021-11-03 09:17:17,029 - Authentication with UP42 successful!\n",
      "2021-11-03 09:17:17,652 - Initialized Project(name: Blocks, project_id: 1733794b-dc7e-4731-b4a6-99e5f15bbf6d, description: , createdAt: 2020-07-13T15:23:17.469Z, env: dev)\n"
     ]
    }
   ],
   "source": [
    "# Import SDK\n",
    "import up42\n",
    "\n",
    "# Authenticate and initialize project\n",
    "up42.authenticate(project_id=\"1234\", project_api_key=\"1234\")\n",
    "project = up42.initialize_project()"
   ]
  },
  {
   "cell_type": "code",
   "execution_count": 2,
   "id": "bb6c26ec-1d22-4cc4-93b6-165ad31298fa",
   "metadata": {
    "tags": []
   },
   "outputs": [
    {
     "name": "stderr",
     "output_type": "stream",
     "text": [
      "2021-11-03 09:17:17,660 - Getting existing workflows in project ...\n",
      "2021-11-03 09:17:18,008 - Got 45 workflows for project 1733794b-dc7e-4731-b4a6-99e5f15bbf6d.\n",
      "100%|██████████| 45/45 [00:14<00:00,  3.12it/s]\n",
      "2021-11-03 09:17:32,468 - Using existing workflow: 30-seconds-workflow - e74ed017-fe23-4b08-837b-edb771d0701b\n",
      "2021-11-03 09:17:35,097 - Added tasks to workflow: [{'name': 'sentinelhub-s2-aoiclipped:1', 'parentName': None, 'blockId': 'c4758545-4b74-4318-ae1f-d5ba72f234ca'}, {'name': 'sharpening:1', 'parentName': 'sentinelhub-s2-aoiclipped:1', 'blockId': '4ed70368-d4e1-4462-bef6-14e768049471'}]\n"
     ]
    }
   ],
   "source": [
    "# Construct workflow\n",
    "workflow = project.create_workflow(name=\"30-seconds-workflow\", use_existing=True)\n",
    "\n",
    "# Add blocks (input tasks) to workflow class\n",
    "input_tasks = [\"Sentinel-2 Level 2 (GeoTIFF)\",\n",
    "              \"Sharpening Filter\"]\n",
    "workflow.add_workflow_tasks(input_tasks=input_tasks)"
   ]
  },
  {
   "cell_type": "code",
   "execution_count": null,
   "id": "a1874d0d-9e39-43c2-8efd-36f1a2fea7bf",
   "metadata": {},
   "outputs": [],
   "source": [
    "# Construct parameters\n",
    "input_parameters = workflow.construct_parameters(geometry=aoi,\n",
    "                                                geometry_operation=\"bbox\",\n",
    "                                                start_date=\"2018-01-01\",\n",
    "                                                end_date=\"2020-12-31\",\n",
    "                                                limit=1)"
   ]
  },
  {
   "cell_type": "markdown",
   "id": "0912f6be-5873-406b-a234-cecb530c3f95",
   "metadata": {},
   "source": [
    "### What are compatible geometries?\n",
    "The following data types can be passed as geometries: 1. Feature, 2. FeatureCollection or a 3. GeoJSON file."
   ]
  },
  {
   "cell_type": "markdown",
   "id": "f1dd43cf-7ab9-4020-9d73-645fe94aaac8",
   "metadata": {},
   "source": [
    "#### 1. A Feature"
   ]
  },
  {
   "cell_type": "code",
   "execution_count": null,
   "id": "9a4963c1-cae4-4028-b445-30f23c96f750",
   "metadata": {},
   "outputs": [],
   "source": [
    "feature = {\"type\":\"Feature\",\n",
    "     \"properties\":{},\n",
    "     \"geometry\":{\n",
    "         \"type\":\"Polygon\",\n",
    "         \"coordinates\":[[\n",
    "                            [13.286740779876709,52.5509016976356],\n",
    "                            [13.300495147705078,52.5509016976356], \n",
    "                            [13.300495147705078,52.556890079685594],\n",
    "                            [13.286740779876709,52.556890079685594],\n",
    "                            [13.286740779876709,52.5509016976356]\n",
    "         ]]\n",
    "     }\n",
    "}"
   ]
  },
  {
   "cell_type": "code",
   "execution_count": null,
   "id": "937eaae7-85ca-461e-befe-ea47d84d6a6f",
   "metadata": {},
   "outputs": [],
   "source": [
    "# Construct parameters\n",
    "input_parameters = workflow.construct_parameters(geometry=feature,\n",
    "                                                geometry_operation=\"bbox\",\n",
    "                                                start_date=\"2018-01-01\",\n",
    "                                                end_date=\"2020-12-31\",\n",
    "                                                limit=1)"
   ]
  },
  {
   "cell_type": "code",
   "execution_count": null,
   "id": "556b7e26-d3e7-4c5b-8e73-caf132ae000f",
   "metadata": {},
   "outputs": [],
   "source": [
    "print(input_parameters)"
   ]
  },
  {
   "cell_type": "markdown",
   "id": "ba91d7c9-1820-4a94-b3f3-548af08e3fc2",
   "metadata": {},
   "source": [
    "#### 2. A FeatureCollection"
   ]
  },
  {
   "cell_type": "code",
   "execution_count": null,
   "id": "ed05b9d4-0c36-4c35-a0c5-b8d7fa6295b2",
   "metadata": {},
   "outputs": [],
   "source": [
    "featurecollection = {\"type\":\"FeatureCollection\",\n",
    "                        \"features\":[\n",
    "                        {\"type\":\"Feature\",\n",
    "                             \"properties\":{},\n",
    "                             \"geometry\":{\n",
    "                                 \"type\":\"Polygon\",\n",
    "                                 \"coordinates\":[[\n",
    "                                        [13.286740779876709,52.5509016976356],\n",
    "                                        [13.300495147705078,52.5509016976356], \n",
    "                                        [13.300495147705078,52.556890079685594],\n",
    "                                        [13.286740779876709,52.556890079685594],\n",
    "                                        [13.286740779876709,52.5509016976356]\n",
    "                                 ]]\n",
    "                             }\n",
    "                        }\n",
    "                    ]\n",
    "                }"
   ]
  },
  {
   "cell_type": "code",
   "execution_count": null,
   "id": "45f319bb-75d5-45b6-9bb1-fe0bb1ebd572",
   "metadata": {},
   "outputs": [],
   "source": [
    "# Construct parameters\n",
    "input_parameters = workflow.construct_parameters(geometry=featurecollection,\n",
    "                                                geometry_operation=\"bbox\",\n",
    "                                                start_date=\"2018-01-01\",\n",
    "                                                end_date=\"2020-12-31\",\n",
    "                                                limit=1)"
   ]
  },
  {
   "cell_type": "markdown",
   "id": "fb577293-5f9d-4abb-9cb5-54dfd7f72065",
   "metadata": {},
   "source": [
    "#### 3. A GeoJSON file"
   ]
  },
  {
   "cell_type": "code",
   "execution_count": null,
   "id": "dde2914d-8b6a-4e43-8633-a427addc4fd3",
   "metadata": {},
   "outputs": [],
   "source": [
    "# Use the next method to create a geojson file containg our AOI\n",
    "up42.draw_aoi()"
   ]
  },
  {
   "cell_type": "code",
   "execution_count": null,
   "id": "b26e762f-eb01-43dd-9831-e4aa01fd3388",
   "metadata": {},
   "outputs": [],
   "source": [
    "import geojson\n",
    "\n",
    "path_to_file = \"/Users/thais.bendixen/Downloads/aoi.geojson\" # THIS HAS TO BE A STRING!\n",
    "\n",
    "with open(path_to_file) as geojson_file:\n",
    "    geometry_geojson = geojson.load(geojson_file) # use this to read geojson file. geojson file contains FeatureCollection"
   ]
  },
  {
   "cell_type": "code",
   "execution_count": null,
   "id": "3cebbed1-a091-43fb-983c-61242e2b735d",
   "metadata": {},
   "outputs": [],
   "source": [
    "# Construct parameters\n",
    "input_parameters = workflow.construct_parameters(geometry=geometry_geojson,\n",
    "                                                geometry_operation=\"bbox\",\n",
    "                                                start_date=\"2018-01-01\",\n",
    "                                                end_date=\"2020-12-31\",\n",
    "                                                limit=1)"
   ]
  },
  {
   "cell_type": "code",
   "execution_count": null,
   "id": "5e285fbf-6fdd-4665-b398-31d12c1d5e45",
   "metadata": {},
   "outputs": [],
   "source": []
  },
  {
   "cell_type": "code",
   "execution_count": null,
   "id": "933d8af5-e714-4485-b7de-514a0feb4842",
   "metadata": {},
   "outputs": [],
   "source": []
  }
 ],
 "metadata": {
  "kernelspec": {
   "display_name": "Python 3",
   "language": "python",
   "name": "python3"
  },
  "language_info": {
   "codemirror_mode": {
    "name": "ipython",
    "version": 3
   },
   "file_extension": ".py",
   "mimetype": "text/x-python",
   "name": "python",
   "nbconvert_exporter": "python",
   "pygments_lexer": "ipython3",
   "version": "3.7.8"
  }
 },
 "nbformat": 4,
 "nbformat_minor": 5
}
