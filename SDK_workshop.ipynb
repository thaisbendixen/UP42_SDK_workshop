{
 "cells": [
  {
   "cell_type": "markdown",
   "id": "4fcc7b53-bdfc-4827-9401-dcce24bfdde1",
   "metadata": {},
   "source": [
    "## HOW TO USE THE UP42 SDK"
   ]
  },
  {
   "cell_type": "markdown",
   "id": "00c8cb5e-c5d2-4f3e-91f0-7ddddf14089c",
   "metadata": {},
   "source": [
    "General tips for working with a jupyter notebook.\n",
    "\n",
    "➕ to create new cell\n",
    "\n",
    "✂️ to delete a cell\n",
    "\n",
    "▶️ to run the code in the cell\n",
    "\n",
    "#️⃣ to add comment / text / non-code things\n",
    "\n",
    "To install the UP42 SDK in a notebook just write !pip install up42-py"
   ]
  },
  {
   "cell_type": "code",
   "execution_count": null,
   "id": "98a020a5-c088-4a6e-9fd3-74c6e71cb547",
   "metadata": {
    "tags": []
   },
   "outputs": [],
   "source": [
    "# Import SDK\n",
    "import up42\n",
    "\n",
    "# Authenticate and initialize project\n",
    "up42.authenticate(project_id=\"1234\", project_api_key=\"1234\")\n",
    "project = up42.initialize_project()"
   ]
  },
  {
   "cell_type": "code",
   "execution_count": null,
   "id": "cf2b6ca7-640b-462c-aee1-a13aec9d128a",
   "metadata": {
    "tags": []
   },
   "outputs": [],
   "source": [
    "# Construct workflow\n",
    "workflow = project.create_workflow(name=\"30-seconds-workflow\", use_existing=True)"
   ]
  },
  {
   "cell_type": "code",
   "execution_count": null,
   "id": "645c7ff7-19c2-42a1-afc2-210debe95ba5",
   "metadata": {},
   "outputs": [],
   "source": [
    "# Let's get information from our workflow\n",
    "print(workflow.info)"
   ]
  },
  {
   "cell_type": "code",
   "execution_count": null,
   "id": "ea92b49d-29f6-4f6d-a3cc-6d20585db522",
   "metadata": {
    "tags": []
   },
   "outputs": [],
   "source": [
    "# Get all available blocks on the platform use\n",
    "print(up42.get_blocks(basic=True))"
   ]
  },
  {
   "cell_type": "code",
   "execution_count": null,
   "id": "7876f7a1-160e-4b4a-a036-17fd15dba0c9",
   "metadata": {
    "tags": []
   },
   "outputs": [],
   "source": [
    "# Add blocks (input tasks) to workflow class. \n",
    "input_tasks = [\"Sentinel-2 Level 2A (GeoTIFF)\",\n",
    "              \"Sharpening Filter\"]\n",
    "workflow.add_workflow_tasks(input_tasks=input_tasks)\n",
    "# There is an error here. Can you solve It?"
   ]
  },
  {
   "cell_type": "code",
   "execution_count": null,
   "id": "1ebb3c77-0266-4198-90e2-d7be8929ee94",
   "metadata": {},
   "outputs": [],
   "source": [
    "# Use the next method to create a geojson file containg our AOI\n",
    "up42.draw_aoi()"
   ]
  },
  {
   "cell_type": "code",
   "execution_count": null,
   "id": "7616c53e-1840-40ba-88c6-1754794a7beb",
   "metadata": {},
   "outputs": [],
   "source": [
    "# Get information about required parameters\n",
    "print(workflow.get_parameters_info())"
   ]
  },
  {
   "cell_type": "code",
   "execution_count": null,
   "id": "097f0e1e-09a7-489e-93cd-19fb013f7a7f",
   "metadata": {},
   "outputs": [],
   "source": [
    "# Construct parameters\n",
    "input_parameters = workflow.construct_parameters(geometry=aoi,\n",
    "                                                geometry_operation=\"bbox\",\n",
    "                                                start_date=\"2018-01-01\",\n",
    "                                                end_date=\"2020-12-31\",\n",
    "                                                limit=1)\n",
    "# The input_parameters value is a dictionary containing all required parameters. To change any of them use\n",
    "# input_parameters[\"name_of_the_block:1\"].update({\"name_of_parameter\":value}) (see below)\n",
    "input_parameters[\"esa-s2-l2a-gtiff:1\"].update({\"max_cloud_cover\":5})"
   ]
  },
  {
   "cell_type": "code",
   "execution_count": null,
   "id": "324fb845-8a71-4091-b254-e5c557e08e44",
   "metadata": {},
   "outputs": [],
   "source": [
    "input_parameters"
   ]
  },
  {
   "cell_type": "code",
   "execution_count": null,
   "id": "5a9854d4-72e0-449c-93ae-bd69f202fa9e",
   "metadata": {},
   "outputs": [],
   "source": [
    "# Get information on workflow\n",
    "print(workflow.info)"
   ]
  },
  {
   "cell_type": "code",
   "execution_count": null,
   "id": "3ed747a7-c522-4f69-9d8c-baf0a5d23f6b",
   "metadata": {},
   "outputs": [],
   "source": [
    "# Price estimation\n",
    "workflow.estimate_job(input_parameters=input_parameters)"
   ]
  },
  {
   "cell_type": "code",
   "execution_count": null,
   "id": "5aecaca9-16ea-4c89-8a2b-afac3efb1f43",
   "metadata": {},
   "outputs": [],
   "source": [
    "# Run a test job to query data availability and check the configuration\n",
    "test_job = workflow.test_job(input_parameters=input_parameters, track_status=True)"
   ]
  },
  {
   "cell_type": "code",
   "execution_count": null,
   "id": "7f55df2d-4593-40ed-8e5f-861eb9e1f757",
   "metadata": {},
   "outputs": [],
   "source": [
    "# Run the actual job\n",
    "job = workflow.run_job(input_parameters=input_parameters, track_status=True)"
   ]
  },
  {
   "cell_type": "code",
   "execution_count": null,
   "id": "8c6e4522-69b8-4219-9e95-344da64eae3c",
   "metadata": {},
   "outputs": [],
   "source": [
    "# Download and visualize the results\n",
    "job.download_results()\n",
    "job.plot_results(figsize=(6,6))"
   ]
  },
  {
   "cell_type": "code",
   "execution_count": null,
   "id": "72994f7b-c034-4570-8d96-2d7673812c6b",
   "metadata": {
    "jupyter": {
     "source_hidden": true
    },
    "tags": []
   },
   "outputs": [],
   "source": []
  }
 ],
 "metadata": {
  "kernelspec": {
   "display_name": "Python 3",
   "language": "python",
   "name": "python3"
  },
  "language_info": {
   "codemirror_mode": {
    "name": "ipython",
    "version": 3
   },
   "file_extension": ".py",
   "mimetype": "text/x-python",
   "name": "python",
   "nbconvert_exporter": "python",
   "pygments_lexer": "ipython3",
   "version": "3.7.8"
  }
 },
 "nbformat": 4,
 "nbformat_minor": 5
}
